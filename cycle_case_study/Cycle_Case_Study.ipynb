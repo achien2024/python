{
 "cells": [
  {
   "cell_type": "markdown",
   "id": "9f74a6b6",
   "metadata": {},
   "source": [
    "## Introduction"
   ]
  },
  {
   "cell_type": "markdown",
   "id": "2b6dfe16",
   "metadata": {},
   "source": [
    "Welcome to the Cyclistic bike-share analysis case study! In this case study, you will perform many real-world tasks of a junior data analyst. You will work for a fictional company, Cyclistic, and meet different characters and team members. In order to answer the key business questions, you will follow the steps of the data analysis process: ask, prepare, process, analyze, share, and act. Along the way, the Case Study Roadmap tables — including guiding questions and key tasks — will help you stay on the right path.\n",
    "\n",
    "By the end of this lesson, you will have a portfolio-ready case study. Download the packet and reference the details of this case study anytime. Then, when you begin your job hunt, your case study will be a tangible way to demonstrate your knowledge and skills to potential employers."
   ]
  },
  {
   "cell_type": "markdown",
   "id": "97aceb69",
   "metadata": {},
   "source": [
    "## Scenario"
   ]
  },
  {
   "cell_type": "markdown",
   "id": "537f42da",
   "metadata": {},
   "source": [
    "You are a junior data analyst working in the marketing analyst team at Cyclistic, a bike-share company in Chicago. The director of marketing believes the company’s future success depends on maximizing the number of annual memberships. Therefore, your team wants to understand how casual riders and annual members use Cyclistic bikes differently. From these insights, your team will design a new marketing strategy to convert casual riders into annual members. But first, Cyclistic executives must approve your recommendations, so they must be backed up with compelling data insights and professional data visualizations."
   ]
  },
  {
   "cell_type": "markdown",
   "id": "50afb830",
   "metadata": {},
   "source": [
    "## About the Company"
   ]
  },
  {
   "cell_type": "markdown",
   "id": "30c5ad66",
   "metadata": {},
   "source": [
    "In 2016, Cyclistic launched a successful bike-share offering. Since then, the program has grown to a fleet of 5,824 bicycles that are geotracked and locked into a network of 692 stations across Chicago. The bikes can be unlocked from one station and returned to any other station in the system anytime.\n",
    "\n",
    "Until now, Cyclistic’s marketing strategy relied on building general awareness and appealing to broad consumer segments. One approach that helped make these things possible was the flexibility of its pricing plans: single-ride passes, full-day passes, and annual memberships. Customers who purchase single-ride or full-day passes are referred to as casual riders. Customers who purchase annual memberships are Cyclistic members.\n",
    "\n",
    "Cyclistic’s finance analysts have concluded that annual members are much more profitable than casual riders. Although the pricing flexibility helps Cyclistic attract more customers, Moreno believes that maximizing the number of annual members will be key to future growth. Rather than creating a marketing campaign that targets all-new customers, Moreno believes there is a very good chance to convert casual riders into members. She notes that casual riders are already aware of the Cyclistic program and have chosen Cyclistic for their mobility needs.\n",
    "\n",
    "Moreno has set a clear goal: Design marketing strategies aimed at converting casual riders into annual members. In order to do that, however, the marketing analyst team needs to better understand how annual members and casual riders differ, why casual riders would buy a membership, and how digital media could affect their marketing tactics. Moreno and her team are interested in analyzing the Cyclistic historical bike trip data to identify trends."
   ]
  },
  {
   "cell_type": "markdown",
   "id": "0ab70ddc",
   "metadata": {},
   "source": [
    "### Setting up  and Cleaning the Data"
   ]
  },
  {
   "cell_type": "code",
   "execution_count": 1,
   "id": "675539b5",
   "metadata": {},
   "outputs": [],
   "source": [
    "import matplotlib.pyplot as plt \n",
    "import numpy as np\n",
    "import pandas as pd\n",
    "from sklearn.impute import SimpleImputer\n",
    "import os\n",
    "import sys\n",
    "import csv\n",
    "from datetime import datetime"
   ]
  },
  {
   "cell_type": "code",
   "execution_count": 2,
   "id": "4f1ee8ba",
   "metadata": {},
   "outputs": [],
   "source": [
    "sys.path.append(\"/Users/aaron/Downloads/CaseStudy1\")"
   ]
  },
  {
   "cell_type": "code",
   "execution_count": 3,
   "id": "420a4bb3",
   "metadata": {},
   "outputs": [
    {
     "data": {
      "text/plain": [
       "'drops columns 4, 6, 7, 8, 9, 10 where axis is for columns and inplace = True means \\nthis change will happen in the orignal dataframe'"
      ]
     },
     "execution_count": 3,
     "metadata": {},
     "output_type": "execute_result"
    }
   ],
   "source": [
    "# M01_trips = pd.read_csv(\"/Users/aaron/CaseStudy1/202101-divvy-tripdata.csv\")\n",
    "# M01_trips = M01_trips.dropna()\n",
    "\"\"\"drops all NA value rows in the csv data frames\"\"\"\n",
    "# M01_trips.drop(M01_trips.columns[[5, 7, 8, 9, 10, 11]], axis = 1, inplace = True)\n",
    "\"\"\"drops columns 4, 6, 7, 8, 9, 10 where axis is for columns and inplace = True means \n",
    "this change will happen in the orignal dataframe\"\"\""
   ]
  },
  {
   "cell_type": "code",
   "execution_count": 4,
   "id": "706cd238",
   "metadata": {},
   "outputs": [
    {
     "data": {
      "text/plain": [
       "'download the adjusted data frames as CSV files'"
      ]
     },
     "execution_count": 4,
     "metadata": {},
     "output_type": "execute_result"
    }
   ],
   "source": [
    "# M01_trips.to_csv(\"M01_trips.csv\")\n",
    "\"\"\"download the adjusted data frames as CSV files\"\"\""
   ]
  },
  {
   "cell_type": "markdown",
   "id": "a564d03e",
   "metadata": {},
   "source": [
    "Used google sheets to find time between rides and how often they ride for members and casual"
   ]
  },
  {
   "cell_type": "code",
   "execution_count": 5,
   "id": "9a13fa42",
   "metadata": {},
   "outputs": [
    {
     "data": {
      "text/plain": [
       "'load the adjusted CSV file'"
      ]
     },
     "execution_count": 5,
     "metadata": {},
     "output_type": "execute_result"
    }
   ],
   "source": [
    "M01_clean = pd.read_csv(\"/Users/aaron/CaseStudy1/Clean_Month1.csv\")\n",
    "\"\"\"load the adjusted CSV file\"\"\""
   ]
  },
  {
   "cell_type": "code",
   "execution_count": 6,
   "id": "0a7d6e08",
   "metadata": {},
   "outputs": [
    {
     "data": {
      "text/plain": [
       "'turn ended_at and started_at columns into datetime objects'"
      ]
     },
     "execution_count": 6,
     "metadata": {},
     "output_type": "execute_result"
    }
   ],
   "source": [
    "M01_clean[\"ended_at\"] =  pd.to_datetime(M01_clean[\"ended_at\"])\n",
    "M01_clean[\"started_at\"] =  pd.to_datetime(M01_clean[\"started_at\"])\n",
    "\"\"\"turn ended_at and started_at columns into datetime objects\"\"\""
   ]
  },
  {
   "cell_type": "code",
   "execution_count": 7,
   "id": "f3913a80",
   "metadata": {},
   "outputs": [
    {
     "data": {
      "text/plain": [
       "'extract the day of the week where Mon = 0, Tues = 1,... and add 1 in order to get Mon = 1, Tues = 2,...'"
      ]
     },
     "execution_count": 7,
     "metadata": {},
     "output_type": "execute_result"
    }
   ],
   "source": [
    "M01_clean[\"weekday\"] = M01_clean[\"ended_at\"].dt.dayofweek + 1\n",
    "\"\"\"extract the day of the week where Mon = 0, Tues = 1,... and add 1 in order to get Mon = 1, Tues = 2,...\"\"\""
   ]
  },
  {
   "cell_type": "code",
   "execution_count": 8,
   "id": "9ed6b553",
   "metadata": {},
   "outputs": [
    {
     "data": {
      "text/plain": [
       "'data frame of the bikes data for only members'"
      ]
     },
     "execution_count": 8,
     "metadata": {},
     "output_type": "execute_result"
    }
   ],
   "source": [
    "M01_member = M01_clean[M01_clean[\"member_casual\"] == \"member\"]\n",
    "\"\"\"data frame of the bikes data for only members\"\"\""
   ]
  },
  {
   "cell_type": "code",
   "execution_count": 9,
   "id": "2f29f94b",
   "metadata": {},
   "outputs": [
    {
     "data": {
      "text/html": [
       "<div>\n",
       "<style scoped>\n",
       "    .dataframe tbody tr th:only-of-type {\n",
       "        vertical-align: middle;\n",
       "    }\n",
       "\n",
       "    .dataframe tbody tr th {\n",
       "        vertical-align: top;\n",
       "    }\n",
       "\n",
       "    .dataframe thead th {\n",
       "        text-align: right;\n",
       "    }\n",
       "</style>\n",
       "<table border=\"1\" class=\"dataframe\">\n",
       "  <thead>\n",
       "    <tr style=\"text-align: right;\">\n",
       "      <th></th>\n",
       "      <th>ride_id</th>\n",
       "      <th>rideable_type</th>\n",
       "      <th>started_at</th>\n",
       "      <th>ended_at</th>\n",
       "      <th>ride_length</th>\n",
       "      <th>start_station_name</th>\n",
       "      <th>end_station_name</th>\n",
       "      <th>member_casual</th>\n",
       "      <th>weekday</th>\n",
       "    </tr>\n",
       "  </thead>\n",
       "  <tbody>\n",
       "    <tr>\n",
       "      <th>0</th>\n",
       "      <td>B9F73448DFBE0D45</td>\n",
       "      <td>classic_bike</td>\n",
       "      <td>2021-01-24 19:15:38</td>\n",
       "      <td>2021-01-24 19:22:51</td>\n",
       "      <td>7</td>\n",
       "      <td>California Ave &amp; Cortez St</td>\n",
       "      <td>Wood St &amp; Augusta Blvd</td>\n",
       "      <td>member</td>\n",
       "      <td>7</td>\n",
       "    </tr>\n",
       "    <tr>\n",
       "      <th>1</th>\n",
       "      <td>457C7F4B5D3DA135</td>\n",
       "      <td>electric_bike</td>\n",
       "      <td>2021-01-23 12:57:38</td>\n",
       "      <td>2021-01-23 13:02:10</td>\n",
       "      <td>5</td>\n",
       "      <td>California Ave &amp; Cortez St</td>\n",
       "      <td>California Ave &amp; North Ave</td>\n",
       "      <td>member</td>\n",
       "      <td>6</td>\n",
       "    </tr>\n",
       "    <tr>\n",
       "      <th>5</th>\n",
       "      <td>49FCE1F8598F12C6</td>\n",
       "      <td>electric_bike</td>\n",
       "      <td>2021-01-22 15:15:28</td>\n",
       "      <td>2021-01-22 15:36:01</td>\n",
       "      <td>21</td>\n",
       "      <td>California Ave &amp; Cortez St</td>\n",
       "      <td>Wells St &amp; Elm St</td>\n",
       "      <td>member</td>\n",
       "      <td>5</td>\n",
       "    </tr>\n",
       "    <tr>\n",
       "      <th>6</th>\n",
       "      <td>0FEED5C2C8749A1C</td>\n",
       "      <td>classic_bike</td>\n",
       "      <td>2021-01-05 10:33:12</td>\n",
       "      <td>2021-01-05 10:39:12</td>\n",
       "      <td>6</td>\n",
       "      <td>California Ave &amp; Cortez St</td>\n",
       "      <td>Sacramento Blvd &amp; Franklin Blvd</td>\n",
       "      <td>member</td>\n",
       "      <td>2</td>\n",
       "    </tr>\n",
       "    <tr>\n",
       "      <th>7</th>\n",
       "      <td>E276FD43BDED6420</td>\n",
       "      <td>classic_bike</td>\n",
       "      <td>2021-01-30 11:59:16</td>\n",
       "      <td>2021-01-30 12:03:44</td>\n",
       "      <td>4</td>\n",
       "      <td>California Ave &amp; Cortez St</td>\n",
       "      <td>Western Ave &amp; Walton St</td>\n",
       "      <td>member</td>\n",
       "      <td>6</td>\n",
       "    </tr>\n",
       "  </tbody>\n",
       "</table>\n",
       "</div>"
      ],
      "text/plain": [
       "            ride_id  rideable_type          started_at            ended_at  \\\n",
       "0  B9F73448DFBE0D45   classic_bike 2021-01-24 19:15:38 2021-01-24 19:22:51   \n",
       "1  457C7F4B5D3DA135  electric_bike 2021-01-23 12:57:38 2021-01-23 13:02:10   \n",
       "5  49FCE1F8598F12C6  electric_bike 2021-01-22 15:15:28 2021-01-22 15:36:01   \n",
       "6  0FEED5C2C8749A1C   classic_bike 2021-01-05 10:33:12 2021-01-05 10:39:12   \n",
       "7  E276FD43BDED6420   classic_bike 2021-01-30 11:59:16 2021-01-30 12:03:44   \n",
       "\n",
       "   ride_length          start_station_name                 end_station_name  \\\n",
       "0            7  California Ave & Cortez St           Wood St & Augusta Blvd   \n",
       "1            5  California Ave & Cortez St       California Ave & North Ave   \n",
       "5           21  California Ave & Cortez St                Wells St & Elm St   \n",
       "6            6  California Ave & Cortez St  Sacramento Blvd & Franklin Blvd   \n",
       "7            4  California Ave & Cortez St          Western Ave & Walton St   \n",
       "\n",
       "  member_casual  weekday  \n",
       "0        member        7  \n",
       "1        member        6  \n",
       "5        member        5  \n",
       "6        member        2  \n",
       "7        member        6  "
      ]
     },
     "execution_count": 9,
     "metadata": {},
     "output_type": "execute_result"
    }
   ],
   "source": [
    "M01_member.head(5)"
   ]
  },
  {
   "cell_type": "code",
   "execution_count": 10,
   "id": "d38cdeec",
   "metadata": {},
   "outputs": [
    {
     "data": {
      "text/plain": [
       "'data frame of the bikes data for only casuals'"
      ]
     },
     "execution_count": 10,
     "metadata": {},
     "output_type": "execute_result"
    }
   ],
   "source": [
    "M01_casual = M01_clean[M01_clean[\"member_casual\"] == \"casual\"]\n",
    "\"\"\"data frame of the bikes data for only casuals\"\"\""
   ]
  },
  {
   "cell_type": "code",
   "execution_count": 11,
   "id": "bfa961f3",
   "metadata": {
    "scrolled": true
   },
   "outputs": [
    {
     "data": {
      "text/html": [
       "<div>\n",
       "<style scoped>\n",
       "    .dataframe tbody tr th:only-of-type {\n",
       "        vertical-align: middle;\n",
       "    }\n",
       "\n",
       "    .dataframe tbody tr th {\n",
       "        vertical-align: top;\n",
       "    }\n",
       "\n",
       "    .dataframe thead th {\n",
       "        text-align: right;\n",
       "    }\n",
       "</style>\n",
       "<table border=\"1\" class=\"dataframe\">\n",
       "  <thead>\n",
       "    <tr style=\"text-align: right;\">\n",
       "      <th></th>\n",
       "      <th>ride_id</th>\n",
       "      <th>rideable_type</th>\n",
       "      <th>started_at</th>\n",
       "      <th>ended_at</th>\n",
       "      <th>ride_length</th>\n",
       "      <th>start_station_name</th>\n",
       "      <th>end_station_name</th>\n",
       "      <th>member_casual</th>\n",
       "      <th>weekday</th>\n",
       "    </tr>\n",
       "  </thead>\n",
       "  <tbody>\n",
       "    <tr>\n",
       "      <th>2</th>\n",
       "      <td>57C750326F9FDABE</td>\n",
       "      <td>electric_bike</td>\n",
       "      <td>2021-01-09 15:28:04</td>\n",
       "      <td>2021-01-09 15:37:51</td>\n",
       "      <td>10</td>\n",
       "      <td>California Ave &amp; Cortez St</td>\n",
       "      <td>Wood St &amp; Augusta Blvd</td>\n",
       "      <td>casual</td>\n",
       "      <td>6</td>\n",
       "    </tr>\n",
       "    <tr>\n",
       "      <th>3</th>\n",
       "      <td>4D518C65E338D070</td>\n",
       "      <td>electric_bike</td>\n",
       "      <td>2021-01-09 15:28:57</td>\n",
       "      <td>2021-01-09 15:37:54</td>\n",
       "      <td>9</td>\n",
       "      <td>California Ave &amp; Cortez St</td>\n",
       "      <td>Wood St &amp; Augusta Blvd</td>\n",
       "      <td>casual</td>\n",
       "      <td>6</td>\n",
       "    </tr>\n",
       "    <tr>\n",
       "      <th>4</th>\n",
       "      <td>9D08A3AFF410474D</td>\n",
       "      <td>classic_bike</td>\n",
       "      <td>2021-01-24 15:56:59</td>\n",
       "      <td>2021-01-24 16:07:08</td>\n",
       "      <td>10</td>\n",
       "      <td>California Ave &amp; Cortez St</td>\n",
       "      <td>Wood St &amp; Augusta Blvd</td>\n",
       "      <td>casual</td>\n",
       "      <td>7</td>\n",
       "    </tr>\n",
       "    <tr>\n",
       "      <th>10</th>\n",
       "      <td>84F11CC620F83254</td>\n",
       "      <td>electric_bike</td>\n",
       "      <td>2021-01-10 08:05:47</td>\n",
       "      <td>2021-01-10 08:13:24</td>\n",
       "      <td>8</td>\n",
       "      <td>California Ave &amp; Cortez St</td>\n",
       "      <td>Leavitt St &amp; North Ave</td>\n",
       "      <td>casual</td>\n",
       "      <td>7</td>\n",
       "    </tr>\n",
       "    <tr>\n",
       "      <th>11</th>\n",
       "      <td>C84E5DD4D74F4FC0</td>\n",
       "      <td>electric_bike</td>\n",
       "      <td>2021-01-18 13:30:07</td>\n",
       "      <td>2021-01-18 13:37:19</td>\n",
       "      <td>7</td>\n",
       "      <td>California Ave &amp; Cortez St</td>\n",
       "      <td>Leavitt St &amp; North Ave</td>\n",
       "      <td>casual</td>\n",
       "      <td>1</td>\n",
       "    </tr>\n",
       "  </tbody>\n",
       "</table>\n",
       "</div>"
      ],
      "text/plain": [
       "             ride_id  rideable_type          started_at            ended_at  \\\n",
       "2   57C750326F9FDABE  electric_bike 2021-01-09 15:28:04 2021-01-09 15:37:51   \n",
       "3   4D518C65E338D070  electric_bike 2021-01-09 15:28:57 2021-01-09 15:37:54   \n",
       "4   9D08A3AFF410474D   classic_bike 2021-01-24 15:56:59 2021-01-24 16:07:08   \n",
       "10  84F11CC620F83254  electric_bike 2021-01-10 08:05:47 2021-01-10 08:13:24   \n",
       "11  C84E5DD4D74F4FC0  electric_bike 2021-01-18 13:30:07 2021-01-18 13:37:19   \n",
       "\n",
       "    ride_length          start_station_name        end_station_name  \\\n",
       "2            10  California Ave & Cortez St  Wood St & Augusta Blvd   \n",
       "3             9  California Ave & Cortez St  Wood St & Augusta Blvd   \n",
       "4            10  California Ave & Cortez St  Wood St & Augusta Blvd   \n",
       "10            8  California Ave & Cortez St  Leavitt St & North Ave   \n",
       "11            7  California Ave & Cortez St  Leavitt St & North Ave   \n",
       "\n",
       "   member_casual  weekday  \n",
       "2         casual        6  \n",
       "3         casual        6  \n",
       "4         casual        7  \n",
       "10        casual        7  \n",
       "11        casual        1  "
      ]
     },
     "execution_count": 11,
     "metadata": {},
     "output_type": "execute_result"
    }
   ],
   "source": [
    "M01_casual.head(5)"
   ]
  },
  {
   "cell_type": "markdown",
   "id": "6b6b7ab0",
   "metadata": {},
   "source": [
    "Here, I will sort the data by member status and create two new data frames base on the member status as well. Once we find the data, we can use the newly create dataframes to create a visualization to analyze the data further. "
   ]
  },
  {
   "cell_type": "markdown",
   "id": "214d2ac4",
   "metadata": {},
   "source": [
    "## Exploring the Data\n"
   ]
  },
  {
   "cell_type": "code",
   "execution_count": 12,
   "id": "52bce710",
   "metadata": {},
   "outputs": [],
   "source": [
    "ride_length_avg = M01_clean.groupby(\"member_casual\")[[\"ride_length\"]].mean().reset_index()\n",
    "# get mean of ride length grouped by membership status "
   ]
  },
  {
   "cell_type": "code",
   "execution_count": 13,
   "id": "65a96655",
   "metadata": {},
   "outputs": [
    {
     "data": {
      "text/html": [
       "<div>\n",
       "<style scoped>\n",
       "    .dataframe tbody tr th:only-of-type {\n",
       "        vertical-align: middle;\n",
       "    }\n",
       "\n",
       "    .dataframe tbody tr th {\n",
       "        vertical-align: top;\n",
       "    }\n",
       "\n",
       "    .dataframe thead th {\n",
       "        text-align: right;\n",
       "    }\n",
       "</style>\n",
       "<table border=\"1\" class=\"dataframe\">\n",
       "  <thead>\n",
       "    <tr style=\"text-align: right;\">\n",
       "      <th></th>\n",
       "      <th>weekday</th>\n",
       "      <th>ride_length</th>\n",
       "    </tr>\n",
       "  </thead>\n",
       "  <tbody>\n",
       "    <tr>\n",
       "      <th>0</th>\n",
       "      <td>1</td>\n",
       "      <td>1676</td>\n",
       "    </tr>\n",
       "    <tr>\n",
       "      <th>1</th>\n",
       "      <td>2</td>\n",
       "      <td>1475</td>\n",
       "    </tr>\n",
       "    <tr>\n",
       "      <th>2</th>\n",
       "      <td>3</td>\n",
       "      <td>1669</td>\n",
       "    </tr>\n",
       "    <tr>\n",
       "      <th>3</th>\n",
       "      <td>4</td>\n",
       "      <td>1905</td>\n",
       "    </tr>\n",
       "    <tr>\n",
       "      <th>4</th>\n",
       "      <td>5</td>\n",
       "      <td>2195</td>\n",
       "    </tr>\n",
       "    <tr>\n",
       "      <th>5</th>\n",
       "      <td>6</td>\n",
       "      <td>3382</td>\n",
       "    </tr>\n",
       "    <tr>\n",
       "      <th>6</th>\n",
       "      <td>7</td>\n",
       "      <td>2388</td>\n",
       "    </tr>\n",
       "  </tbody>\n",
       "</table>\n",
       "</div>"
      ],
      "text/plain": [
       "   weekday  ride_length\n",
       "0        1         1676\n",
       "1        2         1475\n",
       "2        3         1669\n",
       "3        4         1905\n",
       "4        5         2195\n",
       "5        6         3382\n",
       "6        7         2388"
      ]
     },
     "execution_count": 13,
     "metadata": {},
     "output_type": "execute_result"
    }
   ],
   "source": [
    "casual = M01_casual.groupby(\"weekday\")[[\"ride_length\"]].count().reset_index()\n",
    "casual"
   ]
  },
  {
   "cell_type": "code",
   "execution_count": 14,
   "id": "0e1fc0fc",
   "metadata": {},
   "outputs": [
    {
     "data": {
      "text/html": [
       "<div>\n",
       "<style scoped>\n",
       "    .dataframe tbody tr th:only-of-type {\n",
       "        vertical-align: middle;\n",
       "    }\n",
       "\n",
       "    .dataframe tbody tr th {\n",
       "        vertical-align: top;\n",
       "    }\n",
       "\n",
       "    .dataframe thead th {\n",
       "        text-align: right;\n",
       "    }\n",
       "</style>\n",
       "<table border=\"1\" class=\"dataframe\">\n",
       "  <thead>\n",
       "    <tr style=\"text-align: right;\">\n",
       "      <th></th>\n",
       "      <th>weekday</th>\n",
       "      <th>ride_length</th>\n",
       "    </tr>\n",
       "  </thead>\n",
       "  <tbody>\n",
       "    <tr>\n",
       "      <th>0</th>\n",
       "      <td>1</td>\n",
       "      <td>9763</td>\n",
       "    </tr>\n",
       "    <tr>\n",
       "      <th>1</th>\n",
       "      <td>2</td>\n",
       "      <td>9317</td>\n",
       "    </tr>\n",
       "    <tr>\n",
       "      <th>2</th>\n",
       "      <td>3</td>\n",
       "      <td>9876</td>\n",
       "    </tr>\n",
       "    <tr>\n",
       "      <th>3</th>\n",
       "      <td>4</td>\n",
       "      <td>10567</td>\n",
       "    </tr>\n",
       "    <tr>\n",
       "      <th>4</th>\n",
       "      <td>5</td>\n",
       "      <td>10954</td>\n",
       "    </tr>\n",
       "    <tr>\n",
       "      <th>5</th>\n",
       "      <td>6</td>\n",
       "      <td>10633</td>\n",
       "    </tr>\n",
       "    <tr>\n",
       "      <th>6</th>\n",
       "      <td>7</td>\n",
       "      <td>7709</td>\n",
       "    </tr>\n",
       "  </tbody>\n",
       "</table>\n",
       "</div>"
      ],
      "text/plain": [
       "   weekday  ride_length\n",
       "0        1         9763\n",
       "1        2         9317\n",
       "2        3         9876\n",
       "3        4        10567\n",
       "4        5        10954\n",
       "5        6        10633\n",
       "6        7         7709"
      ]
     },
     "execution_count": 14,
     "metadata": {},
     "output_type": "execute_result"
    }
   ],
   "source": [
    "member = M01_member.groupby(\"weekday\")[[\"ride_length\"]].count().reset_index()\n",
    "member"
   ]
  },
  {
   "cell_type": "code",
   "execution_count": 15,
   "id": "27b9dcca",
   "metadata": {},
   "outputs": [
    {
     "data": {
      "text/html": [
       "<div>\n",
       "<style scoped>\n",
       "    .dataframe tbody tr th:only-of-type {\n",
       "        vertical-align: middle;\n",
       "    }\n",
       "\n",
       "    .dataframe tbody tr th {\n",
       "        vertical-align: top;\n",
       "    }\n",
       "\n",
       "    .dataframe thead th {\n",
       "        text-align: right;\n",
       "    }\n",
       "</style>\n",
       "<table border=\"1\" class=\"dataframe\">\n",
       "  <thead>\n",
       "    <tr style=\"text-align: right;\">\n",
       "      <th></th>\n",
       "      <th>member_casual</th>\n",
       "      <th>ride_length</th>\n",
       "    </tr>\n",
       "  </thead>\n",
       "  <tbody>\n",
       "    <tr>\n",
       "      <th>0</th>\n",
       "      <td>casual</td>\n",
       "      <td>26.373383</td>\n",
       "    </tr>\n",
       "    <tr>\n",
       "      <th>1</th>\n",
       "      <td>member</td>\n",
       "      <td>12.030820</td>\n",
       "    </tr>\n",
       "  </tbody>\n",
       "</table>\n",
       "</div>"
      ],
      "text/plain": [
       "  member_casual  ride_length\n",
       "0        casual    26.373383\n",
       "1        member    12.030820"
      ]
     },
     "execution_count": 15,
     "metadata": {},
     "output_type": "execute_result"
    }
   ],
   "source": [
    "ride_length_avg"
   ]
  },
  {
   "cell_type": "code",
   "execution_count": 16,
   "id": "7ac6e005",
   "metadata": {},
   "outputs": [
    {
     "data": {
      "image/png": "[encoded data removed]",
      "text/plain": [
       "<Figure size 432x288 with 1 Axes>"
      ]
     },
     "metadata": {
      "needs_background": "light"
     },
     "output_type": "display_data"
    }
   ],
   "source": [
    "days = [\"Mon\", \"Tues\", \"Wed\", \"Thurs\", \"Fri\", \"Sat\", \"Sun\"]\n",
    "x_axis = np.arange(len(days)) + 1\n",
    "plt.bar(member[\"weekday\"] - 0.2, member[\"ride_length\"], label = \"Member\", width = 0.4)\n",
    "plt.bar(casual[\"weekday\"] + 0.2, casual[\"ride_length\"], label = \"Casual\", width = 0.4)\n",
    "plt.title(\"Rides Taken\")\n",
    "plt.xlabel(\"Weekend\")\n",
    "plt.ylabel(\"Number of Rides Taken\")\n",
    "plt.xticks(x_axis, days)\n",
    "plt.legend(loc = 1, prop = {'size': 9})\n",
    "plt.show()"
   ]
  },
  {
   "cell_type": "code",
   "execution_count": 17,
   "id": "26e878f0",
   "metadata": {},
   "outputs": [
    {
     "data": {
      "image/png": "[encoded data removed]",
      "text/plain": [
       "<Figure size 432x288 with 1 Axes>"
      ]
     },
     "metadata": {
      "needs_background": "light"
     },
     "output_type": "display_data"
    }
   ],
   "source": [
    "plt.bar([1, 2], ride_length_avg[\"ride_length\"], color = \"c\")\n",
    "plt.xticks([1, 2], [\"Casual\", \"Member\"])\n",
    "plt.title(\"Ride Length\")\n",
    "plt.xlabel(\"Member Status\")\n",
    "plt.ylabel(\"Average Ride Length\")\n",
    "plt.show()"
   ]
  },
  {
   "cell_type": "markdown",
   "id": "7211d20c",
   "metadata": {},
   "source": [
    "From the graphs and data frame of the mean ride lengths, we can see that Friday to Sunday are the most popular weekday for casuals to buy rides while Thursday to Saturday are the most popular weekays for members to buy rider. We can see that members take rides 5 times more than casual riders but casual riders take a longer average ride length while member riders take a almost half of casual riders' average ride length. We can deduct from this that casual riders typically take longer rides and don't often take rides while member riders take shorter rides and often take rides. This highlights the different behaviors in members and casuals so we would need to find a way to incentive casuals to use the bikes more often. For this, we will explore the stations and ride types."
   ]
  },
  {
   "cell_type": "code",
   "execution_count": 18,
   "id": "707b6f5d",
   "metadata": {},
   "outputs": [
    {
     "data": {
      "text/html": [
       "<div>\n",
       "<style scoped>\n",
       "    .dataframe tbody tr th:only-of-type {\n",
       "        vertical-align: middle;\n",
       "    }\n",
       "\n",
       "    .dataframe tbody tr th {\n",
       "        vertical-align: top;\n",
       "    }\n",
       "\n",
       "    .dataframe thead th {\n",
       "        text-align: right;\n",
       "    }\n",
       "</style>\n",
       "<table border=\"1\" class=\"dataframe\">\n",
       "  <thead>\n",
       "    <tr style=\"text-align: right;\">\n",
       "      <th></th>\n",
       "      <th>rideable_type</th>\n",
       "      <th>ride_length</th>\n",
       "    </tr>\n",
       "  </thead>\n",
       "  <tbody>\n",
       "    <tr>\n",
       "      <th>0</th>\n",
       "      <td>classic_bike</td>\n",
       "      <td>53193</td>\n",
       "    </tr>\n",
       "    <tr>\n",
       "      <th>1</th>\n",
       "      <td>docked_bike</td>\n",
       "      <td>1</td>\n",
       "    </tr>\n",
       "    <tr>\n",
       "      <th>2</th>\n",
       "      <td>electric_bike</td>\n",
       "      <td>15625</td>\n",
       "    </tr>\n",
       "  </tbody>\n",
       "</table>\n",
       "</div>"
      ],
      "text/plain": [
       "   rideable_type  ride_length\n",
       "0   classic_bike        53193\n",
       "1    docked_bike            1\n",
       "2  electric_bike        15625"
      ]
     },
     "execution_count": 18,
     "metadata": {},
     "output_type": "execute_result"
    }
   ],
   "source": [
    "ride_type_member = M01_member.groupby(\"rideable_type\")[[\"ride_length\"]].count().reset_index()\n",
    "ride_type_member"
   ]
  },
  {
   "cell_type": "code",
   "execution_count": 19,
   "id": "b042a67a",
   "metadata": {},
   "outputs": [
    {
     "data": {
      "text/html": [
       "<div>\n",
       "<style scoped>\n",
       "    .dataframe tbody tr th:only-of-type {\n",
       "        vertical-align: middle;\n",
       "    }\n",
       "\n",
       "    .dataframe tbody tr th {\n",
       "        vertical-align: top;\n",
       "    }\n",
       "\n",
       "    .dataframe thead th {\n",
       "        text-align: right;\n",
       "    }\n",
       "</style>\n",
       "<table border=\"1\" class=\"dataframe\">\n",
       "  <thead>\n",
       "    <tr style=\"text-align: right;\">\n",
       "      <th></th>\n",
       "      <th>rideable_type</th>\n",
       "      <th>ride_length</th>\n",
       "    </tr>\n",
       "  </thead>\n",
       "  <tbody>\n",
       "    <tr>\n",
       "      <th>0</th>\n",
       "      <td>classic_bike</td>\n",
       "      <td>8221</td>\n",
       "    </tr>\n",
       "    <tr>\n",
       "      <th>1</th>\n",
       "      <td>docked_bike</td>\n",
       "      <td>2105</td>\n",
       "    </tr>\n",
       "    <tr>\n",
       "      <th>2</th>\n",
       "      <td>electric_bike</td>\n",
       "      <td>4364</td>\n",
       "    </tr>\n",
       "  </tbody>\n",
       "</table>\n",
       "</div>"
      ],
      "text/plain": [
       "   rideable_type  ride_length\n",
       "0   classic_bike         8221\n",
       "1    docked_bike         2105\n",
       "2  electric_bike         4364"
      ]
     },
     "execution_count": 19,
     "metadata": {},
     "output_type": "execute_result"
    }
   ],
   "source": [
    "ride_type_casual = M01_casual.groupby(\"rideable_type\")[[\"ride_length\"]].count().reset_index()\n",
    "ride_type_casual"
   ]
  },
  {
   "cell_type": "code",
   "execution_count": 20,
   "id": "98eb909c",
   "metadata": {},
   "outputs": [
    {
     "data": {
      "image/png": "[encoded data removed]",
      "text/plain": [
       "<Figure size 432x288 with 1 Axes>"
      ]
     },
     "metadata": {
      "needs_background": "light"
     },
     "output_type": "display_data"
    }
   ],
   "source": [
    "plt.bar([0.2, 1.2, 2.2], ride_type_member[\"ride_length\"], label = \"Member\", width = 0.4)\n",
    "plt.bar([-0.2, 0.8, 1.8], ride_type_casual[\"ride_length\"], label = \"Casual\", width = 0.4)\n",
    "plt.title(\"Ride Types\")\n",
    "plt.xlabel(\"Rideable Types\")\n",
    "plt.ylabel(\"Ride Count\")\n",
    "plt.xticks([0, 1, 2], [\"Classic Bikes\", \"Docked Bikes\", \"Eletric Bikes\"])\n",
    "plt.legend(loc = 1, prop = {'size': 9})\n",
    "plt.show()"
   ]
  },
  {
   "cell_type": "markdown",
   "id": "ac0e5419",
   "metadata": {},
   "source": [
    "This bar graph demonstrates the more common rideable types for bukes between the members and the casuals. We can see that the classic bike is the most popular for both members and casuals as they have the highest count. The least used seems to be the docked bike. Judging from this data, we can get rid of the docked bike and focus on adding more or improving classic bike and eletric bike."
   ]
  },
  {
   "cell_type": "code",
   "execution_count": 21,
   "id": "0405cc4b",
   "metadata": {},
   "outputs": [],
   "source": [
    "casual_end_station = M01_casual.groupby(\"end_station_name\")[[\"ride_length\"]].count().reset_index()\n",
    "casual_end_station.sort_values(by = [\"ride_length\"], inplace = True, ascending = False)\n",
    "casual_end_station = casual_end_station[casual_end_station[\"ride_length\"] > 100]"
   ]
  },
  {
   "cell_type": "code",
   "execution_count": 22,
   "id": "37297f33",
   "metadata": {},
   "outputs": [],
   "source": [
    "casual_start_station = M01_casual.groupby(\"start_station_name\")[[\"ride_length\"]].count().reset_index()\n",
    "casual_start_station.sort_values(by = [\"ride_length\"], inplace = True, ascending = False)\n",
    "casual_start_station = casual_start_station[casual_start_station[\"ride_length\"] > 100]"
   ]
  },
  {
   "cell_type": "code",
   "execution_count": 23,
   "id": "b84c90f4",
   "metadata": {},
   "outputs": [],
   "source": [
    "member_end_station = M01_member.groupby(\"end_station_name\")[[\"ride_length\"]].count().reset_index()\n",
    "member_end_station.sort_values(by = [\"ride_length\"], inplace = True, ascending = False)\n",
    "member_end_station = member_end_station[member_end_station[\"ride_length\"] > 500]"
   ]
  },
  {
   "cell_type": "code",
   "execution_count": 24,
   "id": "d13e72aa",
   "metadata": {},
   "outputs": [],
   "source": [
    "member_start_station = M01_member.groupby(\"start_station_name\")[[\"ride_length\"]].count().reset_index()\n",
    "member_start_station.sort_values(by = [\"ride_length\"], inplace = True, ascending = False)\n",
    "member_start_station = member_start_station[member_start_station[\"ride_length\"] > 500]"
   ]
  },
  {
   "cell_type": "code",
   "execution_count": 25,
   "id": "273e93d8",
   "metadata": {},
   "outputs": [],
   "source": [
    "def same_string(x1, x2):\n",
    "    strings = []\n",
    "    for i in x1:\n",
    "        for n in x2:\n",
    "            if i == n:\n",
    "                strings.append(i)\n",
    "    return strings"
   ]
  },
  {
   "cell_type": "code",
   "execution_count": 26,
   "id": "0b58232e",
   "metadata": {},
   "outputs": [
    {
     "data": {
      "text/plain": [
       "['Wells St & Elm St',\n",
       " 'Clark St & Elm St',\n",
       " 'Wells St & Concord Ln',\n",
       " 'Dearborn St & Erie St',\n",
       " 'Wabash Ave & Grand Ave']"
      ]
     },
     "execution_count": 26,
     "metadata": {},
     "output_type": "execute_result"
    }
   ],
   "source": [
    "same_string(casual_end_station[\"end_station_name\"], member_end_station[\"end_station_name\"])"
   ]
  },
  {
   "cell_type": "code",
   "execution_count": 27,
   "id": "f11b4dd2",
   "metadata": {},
   "outputs": [
    {
     "data": {
      "text/plain": [
       "['Wells St & Elm St',\n",
       " 'Clark St & Elm St',\n",
       " 'Wells St & Huron St',\n",
       " 'Dearborn St & Erie St',\n",
       " 'Kingsbury St & Kinzie St',\n",
       " 'Wells St & Concord Ln']"
      ]
     },
     "execution_count": 27,
     "metadata": {},
     "output_type": "execute_result"
    }
   ],
   "source": [
    "same_string(casual_start_station[\"start_station_name\"], member_start_station[\"start_station_name\"])"
   ]
  },
  {
   "cell_type": "markdown",
   "id": "24f35400",
   "metadata": {},
   "source": [
    "These are the stations casuals and members have in common, as well as the most active ones used between the status of the people. "
   ]
  },
  {
   "cell_type": "markdown",
   "id": "14fe2055",
   "metadata": {},
   "source": [
    "## Conclusion"
   ]
  },
  {
   "cell_type": "markdown",
   "id": "d0ae74c4",
   "metadata": {},
   "source": [
    "After analyzing the similarities and differences in both members and casuals,  my analysis is that the company should offer more classic and electric bikes at the most commonly shared stations such as Wells St & Elm St and Clark St & Elm St. Through this, we can hopefully see that the casuals would take more rides, incentiving them to take more rides which will further incentive them to become members. "
   ]
  }
 ],
 "metadata": {
  "kernelspec": {
   "display_name": "Python 3",
   "language": "python",
   "name": "python3"
  },
  "language_info": {
   "codemirror_mode": {
    "name": "ipython",
    "version": 3
   },
   "file_extension": ".py",
   "mimetype": "text/x-python",
   "name": "python",
   "nbconvert_exporter": "python",
   "pygments_lexer": "ipython3",
   "version": "3.8.8"
  }
 },
 "nbformat": 4,
 "nbformat_minor": 5
}
